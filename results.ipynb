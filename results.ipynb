{
 "cells": [
  {
   "cell_type": "code",
   "execution_count": 1,
   "id": "offensive-awareness",
   "metadata": {},
   "outputs": [],
   "source": [
    "import pandas as pd\n",
    "from main import main, Config\n",
    "import matplotlib as plt\n",
    "import random\n",
    "\n",
    "plt.rcParams[\"figure.figsize\"] = (20,10)\n"
   ]
  },
  {
   "cell_type": "code",
   "execution_count": null,
   "id": "banned-wallet",
   "metadata": {},
   "outputs": [
    {
     "name": "stdout",
     "output_type": "stream",
     "text": [
      "\n",
      " --------normal-500,rogue-10-------\n",
      "0.67 >>> broadcasts left: 6239\r"
     ]
    }
   ],
   "source": [
    "timer = 0\n",
    "\n",
    "df = pd.DataFrame()\n",
    "for x in range(10,9,-10):\n",
    "    random.seed(10)\n",
    "    config_obj = Config(width=100,\n",
    "                        height=100,\n",
    "                        normal_vessels_count=300,\n",
    "                        rogue_vessels_count=x,\n",
    "                        ground_stations_count=0,\n",
    "                        clique_dist=10,\n",
    "                        time_quanta=0.01,\n",
    "                        ttl_acknowledgement=0.1,\n",
    "                        timer=0,\n",
    "                        pause_every_quanta=False,\n",
    "                        show_graph=False)\n",
    "    name = f'normal-{config_obj.normal_vessels_count},rogue-{config_obj.rogue_vessels_count}'\n",
    "    print(f'\\n --------{name}-------')\n",
    "    curr_df, packet_df, normal_vessels, rplt = main(config_obj)\n",
    "    curr_series = curr_df.apply(lambda x: x.sum()/curr_df.shape[0] * 100)\n",
    "    curr_series.name = name\n",
    "    df[curr_series.name] = curr_series\n",
    "    "
   ]
  },
  {
   "cell_type": "code",
   "execution_count": null,
   "id": "labeled-instrumentation",
   "metadata": {},
   "outputs": [],
   "source": [
    "for i in range(df.shape[1]):\n",
    "    df.iloc[:,i].plot(\n",
    "        legend=True, \n",
    "        title='network load % SMR for ( varying no of normal vessels, constant amount of rouge vessels)', \n",
    "        xlabel='Time taken (in seconds)',\n",
    "        ylabel='Network load',\n",
    "    )"
   ]
  },
  {
   "cell_type": "code",
   "execution_count": null,
   "id": "indie-theater",
   "metadata": {},
   "outputs": [],
   "source": [
    "packet_df.T.fillna(0).apply(lambda x: x.cumsum().plot(\n",
    "    legend=True,\n",
    "    title='Time taken for Packet X to penetrate network',\n",
    "    xlabel='Time taken (in seconds)',\n",
    "    ylabel='No of nodes reached'\n",
    "))"
   ]
  },
  {
   "cell_type": "code",
   "execution_count": null,
   "id": "accepted-texas",
   "metadata": {},
   "outputs": [],
   "source": [
    "# from utils import visualise_mesh\n",
    "\n",
    "# visualise_mesh(rplt,normal_vessels)"
   ]
  }
 ],
 "metadata": {
  "kernelspec": {
   "display_name": "smr-venv",
   "language": "python",
   "name": "smr-venv"
  },
  "language_info": {
   "codemirror_mode": {
    "name": "ipython",
    "version": 3
   },
   "file_extension": ".py",
   "mimetype": "text/x-python",
   "name": "python",
   "nbconvert_exporter": "python",
   "pygments_lexer": "ipython3",
   "version": "3.8.5"
  },
  "toc-autonumbering": false,
  "toc-showcode": true,
  "toc-showmarkdowntxt": false,
  "toc-showtags": false
 },
 "nbformat": 4,
 "nbformat_minor": 5
}
