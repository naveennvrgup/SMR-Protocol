{
 "cells": [
  {
   "cell_type": "code",
   "execution_count": 1,
   "id": "heard-belize",
   "metadata": {},
   "outputs": [],
   "source": [
    "import pandas as pd\n",
    "from main import main, Config\n",
    "import matplotlib as plt\n",
    "\n",
    "plt.rcParams[\"figure.figsize\"] = (20,10)\n"
   ]
  },
  {
   "cell_type": "code",
   "execution_count": 2,
   "id": "viral-secondary",
   "metadata": {},
   "outputs": [],
   "source": [
    "# timer = 0\n",
    "\n",
    "# df = pd.DataFrame()\n",
    "# for x in range(50,9,-10):\n",
    "#     config_obj = Config(width=100,\n",
    "#                         height=100,\n",
    "#                         normal_vessels_count=300,\n",
    "#                         rogue_vessels_count=x,\n",
    "#                         ground_stations_count=0,\n",
    "#                         clique_dist=10,\n",
    "#                         time_quanta=0.01,\n",
    "#                         ttl_acknowledgement=0.1,\n",
    "#                         timer=0)\n",
    "#     name = f'normal-{config_obj.normal_vessels_count},rogue-{config_obj.rogue_vessels_count}'\n",
    "#     print(f'\\n --------{name}-------')\n",
    "#     curr_df = main(config_obj)\n",
    "#     curr_series = curr_df.apply(lambda x: x.sum()/curr_df.shape[0] * 100)\n",
    "#     curr_series.name = name\n",
    "#     df[curr_series.name] = curr_series\n",
    "    "
   ]
  },
  {
   "cell_type": "code",
   "execution_count": 3,
   "id": "dress-malaysia",
   "metadata": {},
   "outputs": [],
   "source": [
    "# for i in range(df.shape[1]):\n",
    "#     df.iloc[:,i].plot(\n",
    "#         legend=True, \n",
    "#         title='network load % SMR for ( varying no of normal vessels, constant amount of rouge vessels)', \n",
    "#         xlabel='Time taken (in seconds)',\n",
    "#         ylabel='Network load',\n",
    "#     )"
   ]
  },
  {
   "cell_type": "code",
   "execution_count": 4,
   "id": "sensitive-avatar",
   "metadata": {},
   "outputs": [
    {
     "ename": "NameError",
     "evalue": "name 'df' is not defined",
     "output_type": "error",
     "traceback": [
      "\u001b[0;31m---------------------------------------------------------------------------\u001b[0m",
      "\u001b[0;31mNameError\u001b[0m                                 Traceback (most recent call last)",
      "\u001b[0;32m<ipython-input-4-00cf07b74dcd>\u001b[0m in \u001b[0;36m<module>\u001b[0;34m\u001b[0m\n\u001b[0;32m----> 1\u001b[0;31m \u001b[0mdf\u001b[0m\u001b[0;34m\u001b[0m\u001b[0;34m\u001b[0m\u001b[0m\n\u001b[0m",
      "\u001b[0;31mNameError\u001b[0m: name 'df' is not defined"
     ]
    }
   ],
   "source": [
    "# df"
   ]
  }
 ],
 "metadata": {
  "kernelspec": {
   "display_name": "smr-venv",
   "language": "python",
   "name": "smr-venv"
  },
  "language_info": {
   "codemirror_mode": {
    "name": "ipython",
    "version": 3
   },
   "file_extension": ".py",
   "mimetype": "text/x-python",
   "name": "python",
   "nbconvert_exporter": "python",
   "pygments_lexer": "ipython3",
   "version": "3.8.5"
  }
 },
 "nbformat": 4,
 "nbformat_minor": 5
}
