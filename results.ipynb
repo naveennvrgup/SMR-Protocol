{
 "cells": [
  {
   "cell_type": "code",
   "execution_count": 1,
   "id": "peaceful-transcript",
   "metadata": {},
   "outputs": [],
   "source": [
    "import pandas as pd\n",
    "from main import main, Config\n",
    "import matplotlib as plt\n",
    "import random\n",
    "\n",
    "plt.rcParams[\"figure.figsize\"] = (20,10)\n"
   ]
  },
  {
   "cell_type": "code",
   "execution_count": 2,
   "id": "swedish-decimal",
   "metadata": {},
   "outputs": [
    {
     "name": "stdout",
     "output_type": "stream",
     "text": [
      "\n",
      " --------normal-300,rogue-10-------\n",
      "0 >>> broadcasts left: 106\r"
     ]
    },
    {
     "ename": "AttributeError",
     "evalue": "'NormalVessel' object has no attribute 'waiting_acknowledgement'",
     "output_type": "error",
     "traceback": [
      "\u001b[0;31m---------------------------------------------------------------------------\u001b[0m",
      "\u001b[0;31mAttributeError\u001b[0m                            Traceback (most recent call last)",
      "\u001b[0;32m<ipython-input-2-b0bd5d60b63e>\u001b[0m in \u001b[0;36m<module>\u001b[0;34m\u001b[0m\n\u001b[1;32m     17\u001b[0m     \u001b[0mname\u001b[0m \u001b[0;34m=\u001b[0m \u001b[0;34mf'normal-{config_obj.normal_vessels_count},rogue-{config_obj.rogue_vessels_count}'\u001b[0m\u001b[0;34m\u001b[0m\u001b[0;34m\u001b[0m\u001b[0m\n\u001b[1;32m     18\u001b[0m     \u001b[0mprint\u001b[0m\u001b[0;34m(\u001b[0m\u001b[0;34mf'\\n --------{name}-------'\u001b[0m\u001b[0;34m)\u001b[0m\u001b[0;34m\u001b[0m\u001b[0;34m\u001b[0m\u001b[0m\n\u001b[0;32m---> 19\u001b[0;31m     \u001b[0mcurr_df\u001b[0m\u001b[0;34m,\u001b[0m \u001b[0mpacket_df\u001b[0m\u001b[0;34m,\u001b[0m \u001b[0mnormal_vessels\u001b[0m\u001b[0;34m,\u001b[0m \u001b[0mrplt\u001b[0m \u001b[0;34m=\u001b[0m \u001b[0mmain\u001b[0m\u001b[0;34m(\u001b[0m\u001b[0mconfig_obj\u001b[0m\u001b[0;34m)\u001b[0m\u001b[0;34m\u001b[0m\u001b[0;34m\u001b[0m\u001b[0m\n\u001b[0m\u001b[1;32m     20\u001b[0m     \u001b[0mcurr_series\u001b[0m \u001b[0;34m=\u001b[0m \u001b[0mcurr_df\u001b[0m\u001b[0;34m.\u001b[0m\u001b[0mapply\u001b[0m\u001b[0;34m(\u001b[0m\u001b[0;32mlambda\u001b[0m \u001b[0mx\u001b[0m\u001b[0;34m:\u001b[0m \u001b[0mx\u001b[0m\u001b[0;34m.\u001b[0m\u001b[0msum\u001b[0m\u001b[0;34m(\u001b[0m\u001b[0;34m)\u001b[0m\u001b[0;34m/\u001b[0m\u001b[0mcurr_df\u001b[0m\u001b[0;34m.\u001b[0m\u001b[0mshape\u001b[0m\u001b[0;34m[\u001b[0m\u001b[0;36m0\u001b[0m\u001b[0;34m]\u001b[0m \u001b[0;34m*\u001b[0m \u001b[0;36m100\u001b[0m\u001b[0;34m)\u001b[0m\u001b[0;34m\u001b[0m\u001b[0;34m\u001b[0m\u001b[0m\n\u001b[1;32m     21\u001b[0m     \u001b[0mcurr_series\u001b[0m\u001b[0;34m.\u001b[0m\u001b[0mname\u001b[0m \u001b[0;34m=\u001b[0m \u001b[0mname\u001b[0m\u001b[0;34m\u001b[0m\u001b[0;34m\u001b[0m\u001b[0m\n",
      "\u001b[0;32m~/projects/SMR/main.py\u001b[0m in \u001b[0;36mmain\u001b[0;34m(config_obj)\u001b[0m\n\u001b[1;32m    164\u001b[0m \u001b[0;34m\u001b[0m\u001b[0m\n\u001b[1;32m    165\u001b[0m     \u001b[0;31m# return the result dataframe\u001b[0m\u001b[0;34m\u001b[0m\u001b[0;34m\u001b[0m\u001b[0;34m\u001b[0m\u001b[0m\n\u001b[0;32m--> 166\u001b[0;31m     \u001b[0;32mreturn\u001b[0m \u001b[0mstart_simula\u001b[0m\u001b[0;34m(\u001b[0m\u001b[0mnormal_vessels\u001b[0m\u001b[0;34m,\u001b[0m \u001b[0mgood_vessels\u001b[0m\u001b[0;34m,\u001b[0m \u001b[0mconfig_obj\u001b[0m\u001b[0;34m)\u001b[0m\u001b[0;34m\u001b[0m\u001b[0;34m\u001b[0m\u001b[0m\n\u001b[0m\u001b[1;32m    167\u001b[0m \u001b[0;34m\u001b[0m\u001b[0m\n\u001b[1;32m    168\u001b[0m \u001b[0;34m\u001b[0m\u001b[0m\n",
      "\u001b[0;32m~/projects/SMR/main.py\u001b[0m in \u001b[0;36mstart_simula\u001b[0;34m(normal_vessels, good_vessels, config_obj)\u001b[0m\n\u001b[1;32m     36\u001b[0m \u001b[0;34m\u001b[0m\u001b[0m\n\u001b[1;32m     37\u001b[0m         \u001b[0;32mfor\u001b[0m \u001b[0mvessel\u001b[0m \u001b[0;32min\u001b[0m \u001b[0mnormal_vessels\u001b[0m\u001b[0;34m:\u001b[0m\u001b[0;34m\u001b[0m\u001b[0;34m\u001b[0m\u001b[0m\n\u001b[0;32m---> 38\u001b[0;31m             \u001b[0mvessel\u001b[0m\u001b[0;34m.\u001b[0m\u001b[0mbroadcast\u001b[0m\u001b[0;34m(\u001b[0m\u001b[0;34m)\u001b[0m  \u001b[0;31m# curr_broadcast curr_signals\u001b[0m\u001b[0;34m\u001b[0m\u001b[0;34m\u001b[0m\u001b[0m\n\u001b[0m\u001b[1;32m     39\u001b[0m         \u001b[0;32mfor\u001b[0m \u001b[0mvessel\u001b[0m \u001b[0;32min\u001b[0m \u001b[0mnormal_vessels\u001b[0m\u001b[0;34m:\u001b[0m\u001b[0;34m\u001b[0m\u001b[0;34m\u001b[0m\u001b[0m\n\u001b[1;32m     40\u001b[0m             \u001b[0;31m# returns a boolean indicating a reception\u001b[0m\u001b[0;34m\u001b[0m\u001b[0;34m\u001b[0m\u001b[0;34m\u001b[0m\u001b[0m\n",
      "\u001b[0;32m~/projects/SMR/node.py\u001b[0m in \u001b[0;36mbroadcast\u001b[0;34m(self)\u001b[0m\n\u001b[1;32m    194\u001b[0m             \u001b[0mnei\u001b[0m\u001b[0;34m.\u001b[0m\u001b[0mreceive\u001b[0m\u001b[0;34m(\u001b[0m\u001b[0mpacket\u001b[0m\u001b[0;34m)\u001b[0m\u001b[0;34m\u001b[0m\u001b[0;34m\u001b[0m\u001b[0m\n\u001b[1;32m    195\u001b[0m \u001b[0;34m\u001b[0m\u001b[0m\n\u001b[0;32m--> 196\u001b[0;31m         self.waiting_acknowledgement.append(\n\u001b[0m\u001b[1;32m    197\u001b[0m             (packet, self.config_obj.ttl_acknowledgement))    # Packet, TTL\n\u001b[1;32m    198\u001b[0m \u001b[0;34m\u001b[0m\u001b[0m\n",
      "\u001b[0;31mAttributeError\u001b[0m: 'NormalVessel' object has no attribute 'waiting_acknowledgement'"
     ]
    }
   ],
   "source": [
    "timer = 0\n",
    "\n",
    "df = pd.DataFrame()\n",
    "for x in range(10,9,-10):\n",
    "    random.seed(10)\n",
    "    config_obj = Config(width=100,\n",
    "                        height=100,\n",
    "                        normal_vessels_count=300,\n",
    "                        rogue_vessels_count=x,\n",
    "                        ground_stations_count=0,\n",
    "                        clique_dist=10,\n",
    "                        time_quanta=0.01,\n",
    "                        ttl_acknowledgement=0.1,\n",
    "                        timer=0,\n",
    "                        pause_every_quanta=False,\n",
    "                        show_graph=False)\n",
    "    name = f'normal-{config_obj.normal_vessels_count},rogue-{config_obj.rogue_vessels_count}'\n",
    "    print(f'\\n --------{name}-------')\n",
    "    curr_df, packet_df, normal_vessels, rplt = main(config_obj)\n",
    "    curr_series = curr_df.apply(lambda x: x.sum()/curr_df.shape[0] * 100)\n",
    "    curr_series.name = name\n",
    "    df[curr_series.name] = curr_series\n",
    "    "
   ]
  },
  {
   "cell_type": "code",
   "execution_count": null,
   "id": "related-aerospace",
   "metadata": {},
   "outputs": [],
   "source": [
    "for i in range(df.shape[1]):\n",
    "    df.iloc[:,i].plot(\n",
    "        legend=True, \n",
    "        title='network load % SMR for ( varying no of normal vessels, constant amount of rouge vessels)', \n",
    "        xlabel='Time taken (in seconds)',\n",
    "        ylabel='Network load',\n",
    "    )"
   ]
  },
  {
   "cell_type": "code",
   "execution_count": null,
   "id": "resident-flesh",
   "metadata": {},
   "outputs": [],
   "source": [
    "packet_df.T.fillna(0).apply(lambda x: x.cumsum().plot(\n",
    "    legend=True,\n",
    "    title='Time taken for Packet X to penetrate network',\n",
    "    xlabel='Time taken (in seconds)',\n",
    "    ylabel='No of nodes reached'\n",
    "))"
   ]
  },
  {
   "cell_type": "code",
   "execution_count": null,
   "id": "uniform-schema",
   "metadata": {},
   "outputs": [],
   "source": [
    "# from utils import visualise_mesh\n",
    "\n",
    "# visualise_mesh(rplt,normal_vessels)"
   ]
  }
 ],
 "metadata": {
  "kernelspec": {
   "display_name": "smr-venv",
   "language": "python",
   "name": "smr-venv"
  },
  "language_info": {
   "codemirror_mode": {
    "name": "ipython",
    "version": 3
   },
   "file_extension": ".py",
   "mimetype": "text/x-python",
   "name": "python",
   "nbconvert_exporter": "python",
   "pygments_lexer": "ipython3",
   "version": "3.8.5"
  },
  "toc-autonumbering": false,
  "toc-showcode": true,
  "toc-showmarkdowntxt": false,
  "toc-showtags": false
 },
 "nbformat": 4,
 "nbformat_minor": 5
}
