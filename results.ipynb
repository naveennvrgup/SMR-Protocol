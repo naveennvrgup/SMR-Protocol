{
 "cells": [
  {
   "cell_type": "code",
   "execution_count": 1,
   "id": "governmental-springer",
   "metadata": {},
   "outputs": [],
   "source": [
    "import pandas as pd\n",
    "from main import main, Config\n",
    "import matplotlib as plt\n",
    "import random\n",
    "\n",
    "plt.rcParams[\"figure.figsize\"] = (20,10)\n"
   ]
  },
  {
   "cell_type": "code",
   "execution_count": null,
   "id": "banned-bearing",
   "metadata": {},
   "outputs": [
    {
     "name": "stdout",
     "output_type": "stream",
     "text": [
      "\n",
      " --------normal-300,rogue-50-------\n",
      "0.11 >>> broadcasts left: 859\r"
     ]
    }
   ],
   "source": [
    "timer = 0\n",
    "\n",
    "df = pd.DataFrame()\n",
    "for x in [50,10]:\n",
    "    random.seed(10)\n",
    "    config_obj = Config(width=100,\n",
    "                        height=100,\n",
    "                        normal_vessels_count=300,\n",
    "                        rogue_vessels_count=x,\n",
    "                        ground_stations_count=0,\n",
    "                        clique_dist=10,\n",
    "                        time_quanta=0.01,\n",
    "                        ttl_acknowledgement=0.1,\n",
    "                        timer=0)\n",
    "    name = f'normal-{config_obj.normal_vessels_count},rogue-{config_obj.rogue_vessels_count}'\n",
    "    print(f'\\n --------{name}-------')\n",
    "    curr_df, _ = main(config_obj)\n",
    "    curr_series = curr_df.apply(lambda x: x.sum()/curr_df.shape[0] * 100)\n",
    "    curr_series.name = name\n",
    "    df[curr_series.name] = curr_series\n",
    "    "
   ]
  },
  {
   "cell_type": "code",
   "execution_count": null,
   "id": "descending-front",
   "metadata": {},
   "outputs": [],
   "source": [
    "for i in range(df.shape[1]):\n",
    "    df.iloc[:,i].plot(\n",
    "        legend=True, \n",
    "        title='network load % SMR for ( varying no of normal vessels, constant amount of rouge vessels)', \n",
    "        xlabel='Time taken (in seconds)',\n",
    "        ylabel='Network load',\n",
    "    )"
   ]
  },
  {
   "cell_type": "code",
   "execution_count": null,
   "id": "medieval-maria",
   "metadata": {},
   "outputs": [],
   "source": [
    "df.tail(50)"
   ]
  },
  {
   "cell_type": "code",
   "execution_count": null,
   "id": "separate-warner",
   "metadata": {},
   "outputs": [],
   "source": []
  },
  {
   "cell_type": "code",
   "execution_count": null,
   "id": "tutorial-dancing",
   "metadata": {},
   "outputs": [],
   "source": []
  },
  {
   "cell_type": "code",
   "execution_count": null,
   "id": "focal-porcelain",
   "metadata": {},
   "outputs": [],
   "source": [
    "packet_df.iloc[0].fillna(0).cumsum()"
   ]
  },
  {
   "cell_type": "code",
   "execution_count": null,
   "id": "reflected-argentina",
   "metadata": {},
   "outputs": [],
   "source": [
    "df2 = pd.read_csv('/home/naveennvrgup/Downloads/ais_baltic_sea/training_set.csv')"
   ]
  },
  {
   "cell_type": "code",
   "execution_count": null,
   "id": "important-perry",
   "metadata": {},
   "outputs": [],
   "source": [
    "time = pd.to_datetime(df2['timestamp'])"
   ]
  },
  {
   "cell_type": "code",
   "execution_count": null,
   "id": "julian-working",
   "metadata": {},
   "outputs": [],
   "source": [
    "time.describe()"
   ]
  },
  {
   "cell_type": "code",
   "execution_count": null,
   "id": "superb-tackle",
   "metadata": {},
   "outputs": [],
   "source": [
    "time.shape"
   ]
  }
 ],
 "metadata": {
  "kernelspec": {
   "display_name": "smr-venv",
   "language": "python",
   "name": "smr-venv"
  },
  "language_info": {
   "codemirror_mode": {
    "name": "ipython",
    "version": 3
   },
   "file_extension": ".py",
   "mimetype": "text/x-python",
   "name": "python",
   "nbconvert_exporter": "python",
   "pygments_lexer": "ipython3",
   "version": "3.8.5"
  },
  "toc-autonumbering": false,
  "toc-showcode": true,
  "toc-showmarkdowntxt": false,
  "toc-showtags": false
 },
 "nbformat": 4,
 "nbformat_minor": 5
}
